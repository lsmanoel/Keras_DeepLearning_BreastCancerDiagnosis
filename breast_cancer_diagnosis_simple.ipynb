{
  "nbformat": 4,
  "nbformat_minor": 0,
  "metadata": {
    "colab": {
      "name": "breast_cancer_diagnosis_simple.ipynb",
      "version": "0.3.2",
      "provenance": [],
      "collapsed_sections": [],
      "include_colab_link": true
    },
    "kernelspec": {
      "name": "python3",
      "display_name": "Python 3"
    }
  },
  "cells": [
    {
      "cell_type": "markdown",
      "metadata": {
        "id": "view-in-github",
        "colab_type": "text"
      },
      "source": [
        "<a href=\"https://colab.research.google.com/github/lsmanoel/Keras_DeepLearning/blob/master/breast_cancer_diagnosis_simple.ipynb\" target=\"_parent\"><img src=\"https://colab.research.google.com/assets/colab-badge.svg\" alt=\"Open In Colab\"/></a>"
      ]
    },
    {
      "metadata": {
        "id": "RoZYBXq8a1Y3",
        "colab_type": "text"
      },
      "cell_type": "markdown",
      "source": [
        "In this exemple you will learn how to train a deep neural network to diagnose breast cancer. The packages required for this exemple are shown below:"
      ]
    },
    {
      "metadata": {
        "id": "8Maz0pycaYTw",
        "colab_type": "code",
        "colab": {}
      },
      "cell_type": "code",
      "source": [
        "import pandas as pd\n",
        "\n",
        "from sklearn.model_selection import train_test_split\n",
        "\n",
        "import keras\n",
        "from keras.models import Sequential\n",
        "from keras.layers import Dense, Dropout"
      ],
      "execution_count": 0,
      "outputs": []
    },
    {
      "metadata": {
        "id": "O53H7-pveUj4",
        "colab_type": "text"
      },
      "cell_type": "markdown",
      "source": [
        "To load the database is shown below. The input_data_breast are the predictors and the output_data_breast are de real results of breast cancer diagnoses for each predictor."
      ]
    },
    {
      "metadata": {
        "id": "0y9YtedncxYk",
        "colab_type": "code",
        "colab": {}
      },
      "cell_type": "code",
      "source": [
        "previsores = pd.read_csv('entradas-breast.csv')\n",
        "classe = pd.read_csv('saidas-breast.csv')"
      ],
      "execution_count": 0,
      "outputs": []
    },
    {
      "metadata": {
        "id": "DG53DHZYcz7W",
        "colab_type": "code",
        "colab": {}
      },
      "cell_type": "code",
      "source": [
        "classificador = Sequential()\n",
        "classificador.add(Dense(units = 8, activation = 'relu',\n",
        "                        kernel_initializer = 'random_uniform', input_dim = 30))\n",
        "classificador.add(Dropout(0.2))\n",
        "classificador.add(Dense(units = 8, activation = 'relu',\n",
        "                        kernel_initializer = 'normal'))\n",
        "classificador.add(Dropout(0.2))\n",
        "classificador.add(Dense(units = 1, activation = 'sigmoid'))\n",
        "\n",
        "#lr: learning rate ... decay: decaimento do learning rate\n",
        "#clipvalue: limita os valores dos pesos\n",
        "otimizador = keras.optimizers.Adam(lr = 0.001, decay = 0.0001, clipvalue = 0.5)\n",
        "classificador.compile(optimizer = otimizador, loss = 'binary_crossentropy',\n",
        "                      metrics = ['binary_accuracy'])"
      ],
      "execution_count": 0,
      "outputs": []
    },
    {
      "metadata": {
        "id": "Jcwxvn9-sZ4x",
        "colab_type": "code",
        "colab": {}
      },
      "cell_type": "code",
      "source": [
        "classificador.fit(previsores_treinamento, classe_treinamento,\n",
        "                  batch_size = 10, epochs = 100)"
      ],
      "execution_count": 0,
      "outputs": []
    },
    {
      "metadata": {
        "id": "Woy1pwYCserh",
        "colab_type": "text"
      },
      "cell_type": "markdown",
      "source": [
        ""
      ]
    },
    {
      "metadata": {
        "id": "XS3OgqY7shgv",
        "colab_type": "code",
        "colab": {}
      },
      "cell_type": "code",
      "source": [
        "pesos0 = classificador.layers[0].get_weights()\n",
        "print(pesos0)\n",
        "print(len(pesos0))\n",
        "pesos1 = classificador.layers[1].get_weights()"
      ],
      "execution_count": 0,
      "outputs": []
    },
    {
      "metadata": {
        "id": "SNbc78Ims4x1",
        "colab_type": "code",
        "colab": {}
      },
      "cell_type": "code",
      "source": [
        "previsoes = classificador.predict(previsores_teste)\n",
        "previsoes = (previsoes > 0.5)\n",
        "from sklearn.metrics import confusion_matrix, accuracy_score\n",
        "precisao = accuracy_score(classe_teste, previsoes)\n",
        "matriz = confusion_matrix(classe_teste, previsoes)\n",
        "\n",
        "resultado = classificador.evaluate(previsores_teste, classe_teste)\n",
        "print(\"Erro:%f Precisão:%f\"% (resultado[0], resultado[1]))"
      ],
      "execution_count": 0,
      "outputs": []
    }
  ]
}