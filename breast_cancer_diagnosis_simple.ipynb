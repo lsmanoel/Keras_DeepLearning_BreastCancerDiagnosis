{
  "nbformat": 4,
  "nbformat_minor": 0,
  "metadata": {
    "colab": {
      "name": "breast_cancer_diagnosis_simple.ipynb",
      "version": "0.3.2",
      "provenance": [],
      "collapsed_sections": [],
      "include_colab_link": true
    },
    "kernelspec": {
      "name": "python3",
      "display_name": "Python 3"
    }
  },
  "cells": [
    {
      "cell_type": "markdown",
      "metadata": {
        "id": "view-in-github",
        "colab_type": "text"
      },
      "source": [
        "<a href=\"https://colab.research.google.com/github/lsmanoel/Keras_DeepLearning_BreastCancerDiagnosis/blob/master/breast_cancer_diagnosis_simple.ipynb\" target=\"_parent\"><img src=\"https://colab.research.google.com/assets/colab-badge.svg\" alt=\"Open In Colab\"/></a>"
      ]
    },
    {
      "metadata": {
        "id": "RoZYBXq8a1Y3",
        "colab_type": "text"
      },
      "cell_type": "markdown",
      "source": [
        "In this exemple you will learn how to train a deep neural network to diagnose breast cancer. The packages required for this exemple are shown below:"
      ]
    },
    {
      "metadata": {
        "id": "8Maz0pycaYTw",
        "colab_type": "code",
        "colab": {}
      },
      "cell_type": "code",
      "source": [
        "import pandas as pd\n",
        "\n",
        "from sklearn.model_selection import train_test_split\n",
        "\n",
        "import keras\n",
        "from keras.models import Sequential\n",
        "from keras.layers import Dense, Dropout"
      ],
      "execution_count": 0,
      "outputs": []
    },
    {
      "metadata": {
        "id": "O53H7-pveUj4",
        "colab_type": "text"
      },
      "cell_type": "markdown",
      "source": [
        "To load the database is shown below. The input_data_breast are the predictors and the output_data_breast are de real results of breast cancer diagnoses for each predictor."
      ]
    },
    {
      "metadata": {
        "id": "x155pKJ8toQE",
        "colab_type": "code",
        "colab": {}
      },
      "cell_type": "code",
      "source": [
        "from google.colab import drive \n",
        "drive.mount('/content/gdrive')"
      ],
      "execution_count": 0,
      "outputs": []
    },
    {
      "metadata": {
        "id": "Mitbhc-KvQvv",
        "colab_type": "text"
      },
      "cell_type": "markdown",
      "source": [
        "The database will be separated into two sections. A section to train and a section to evaluate the deep NN. The parameter test_size means the fraction value that will be used to evaluate the net."
      ]
    },
    {
      "metadata": {
        "id": "0y9YtedncxYk",
        "colab_type": "code",
        "colab": {}
      },
      "cell_type": "code",
      "source": [
        "predictors = pd.read_csv('gdrive/My Drive/Colab Notebooks/Keras_DeepLearning/binary_classifier/breast_cancer_diagnosis/entradas-breast.csv')\n",
        "realResult = pd.read_csv('gdrive/My Drive/Colab Notebooks/Keras_DeepLearning/binary_classifier/breast_cancer_diagnosis/saidas-breast.csv')\n",
        "predictors_training, predictors_test, realResult_training, realResult_test = train_test_split(predictors, realResult, test_size=0.10)\n"
      ],
      "execution_count": 0,
      "outputs": []
    },
    {
      "metadata": {
        "id": "k2lc80B01062",
        "colab_type": "text"
      },
      "cell_type": "markdown",
      "source": [
        "The structure of the Deep Neural Net is shown below. This net has only two hidden layers. The error function used is the Binary Crossentropy (ideal for binary problems). The output activation function is a sigmoid to provide a probability result (range between 0 and 1). Dropouts prevent network overfitting!\n",
        "\n",
        ">1.   30 neurons in input layers \n",
        ">1.   8n in dense relu hidden  layers \n",
        ">1.   8n in dense relu hidden layer\n",
        ">1.   1n in dense sigmoid output layer\n",
        "\n",
        "\n",
        "The optimizer used is [Adam Optimizer](https://arxiv.org/abs/1412.6980v8).\n",
        "\n",
        "Other types of optimizers:\n",
        "[https://keras.io/optimizers/](https://keras.io/optimizers/)"
      ]
    },
    {
      "metadata": {
        "id": "DG53DHZYcz7W",
        "colab_type": "code",
        "colab": {}
      },
      "cell_type": "code",
      "source": [
        "def createNet():\n",
        "  newNeuralClassifier = Sequential()\n",
        "  \n",
        "  newNeuralClassifier.add(Dense(units = 8, activation = 'relu',\n",
        "                                kernel_initializer = 'random_uniform', \n",
        "                                input_dim = 30))\n",
        "  newNeuralClassifier.add(Dropout(0.2))\n",
        "  \n",
        "  newNeuralClassifier.add(Dense(units = 8, \n",
        "                                activation = 'relu',\n",
        "                                kernel_initializer = 'normal'))\n",
        "  newNeuralClassifier.add(Dropout(0.2))\n",
        "  \n",
        "  newNeuralClassifier.add(Dense(units = 1, \n",
        "                                activation = 'sigmoid'))\n",
        "\n",
        "  #lr: learning rate ... decay: decay of learning rate\n",
        "  #clipvalue: limits the values of the weights\n",
        "  optimizer_config = keras.optimizers.Adam(lr = 0.001, \n",
        "                                           decay = 0.0001, \n",
        "                                           clipvalue = 0.5)\n",
        "  \n",
        "  newNeuralClassifier.compile(optimizer = optimizer_config, \n",
        "                              loss = 'binary_crossentropy',\n",
        "                              metrics = ['binary_accuracy'])\n",
        "  return newNeuralClassifier\n",
        "\n",
        "neuralClassifier = createNet()"
      ],
      "execution_count": 0,
      "outputs": []
    },
    {
      "metadata": {
        "id": "m_z8geor7-pT",
        "colab_type": "text"
      },
      "cell_type": "markdown",
      "source": [
        "To play the training:"
      ]
    },
    {
      "metadata": {
        "id": "Jcwxvn9-sZ4x",
        "colab_type": "code",
        "colab": {}
      },
      "cell_type": "code",
      "source": [
        "neuralClassifier.fit(predictors_training, realResult_training,\n",
        "                  batch_size = 10, epochs = 100)"
      ],
      "execution_count": 0,
      "outputs": []
    },
    {
      "metadata": {
        "id": "Woy1pwYCserh",
        "colab_type": "text"
      },
      "cell_type": "markdown",
      "source": [
        "To get and set the weights of layer or get config of the layer: [https://keras.io/layers/about-keras-layers/](https://keras.io/layers/about-keras-layers/)"
      ]
    },
    {
      "metadata": {
        "id": "XS3OgqY7shgv",
        "colab_type": "code",
        "colab": {}
      },
      "cell_type": "code",
      "source": [
        "weight0 = neuralClassifier.layers[0].get_weights()\n",
        "weight1 = neuralClassifier.layers[1].get_weights()\n",
        "\n",
        "config0 = neuralClassifier.layers[0].get_config()\n",
        "config1 = neuralClassifier.layers[1].get_config()\n",
        "\n",
        "reconstructed_layer = Dense.from_config(config0)\n",
        "reconstructed_layer.set_weights(weight1)"
      ],
      "execution_count": 0,
      "outputs": []
    },
    {
      "metadata": {
        "id": "ku8GI7L4Ecxk",
        "colab_type": "text"
      },
      "cell_type": "markdown",
      "source": [
        "To view the confusion matrix:"
      ]
    },
    {
      "metadata": {
        "id": "SNbc78Ims4x1",
        "colab_type": "code",
        "colab": {}
      },
      "cell_type": "code",
      "source": [
        "prediction = neuralClassifier.predict(predictors_test)\n",
        "prediction = (prediction > 0.5)#Boolean convert\n",
        "\n",
        "from sklearn.metrics import confusion_matrix, accuracy_score\n",
        "accuracy = accuracy_score(realResult_test, prediction)\n",
        "matrix = confusion_matrix(realResult_test, prediction)\n",
        "\n",
        "confusion_matrix_ = pd.DataFrame (matrix, \n",
        "                                  columns =['Predicted Positive', 'Predicted Negative'], \n",
        "                                  index =['Actual Positive', 'Actual Negative'])\n",
        "\n",
        "confusion_matrix_\n",
        "\n"
      ],
      "execution_count": 0,
      "outputs": []
    },
    {
      "metadata": {
        "id": "79u3UDGOEl0F",
        "colab_type": "text"
      },
      "cell_type": "markdown",
      "source": [
        "To evaluate the Net:"
      ]
    },
    {
      "metadata": {
        "id": "F4SMuIM5EXR4",
        "colab_type": "code",
        "colab": {}
      },
      "cell_type": "code",
      "source": [
        "result = neuralClassifier.evaluate(predictors_test, realResult_test)\n",
        "print(\"Error:%f Accuracy:%f\"% (result[0], result[1]))"
      ],
      "execution_count": 0,
      "outputs": []
    },
    {
      "metadata": {
        "id": "RJ9qRLqPFOvc",
        "colab_type": "text"
      },
      "cell_type": "markdown",
      "source": [
        "To save the neuralClassifier like json file:"
      ]
    },
    {
      "metadata": {
        "id": "YXTvn_AFF-XO",
        "colab_type": "code",
        "colab": {}
      },
      "cell_type": "code",
      "source": [
        "neuralClassifier_json = neuralClassifier.to_json()\n",
        "with open('neuralClassifier_breast_1.json', 'w') as json_file:\n",
        "    json_file.write(neuralClassifier_json)"
      ],
      "execution_count": 0,
      "outputs": []
    },
    {
      "metadata": {
        "id": "awLAvM4lGQ3i",
        "colab_type": "text"
      },
      "cell_type": "markdown",
      "source": [
        "To save the weights:\n"
      ]
    },
    {
      "metadata": {
        "id": "wyery7-RGQTL",
        "colab_type": "code",
        "colab": {}
      },
      "cell_type": "code",
      "source": [
        "neuralClassifier.save_weights('neuralClassifier_weights_breast_1.h5')\n"
      ],
      "execution_count": 0,
      "outputs": []
    },
    {
      "metadata": {
        "id": "ynzKRcD_HIMc",
        "colab_type": "text"
      },
      "cell_type": "markdown",
      "source": [
        "To open the saved neuralClassifier and weights:"
      ]
    },
    {
      "metadata": {
        "id": "4IFhyTg1G79K",
        "colab_type": "code",
        "colab": {}
      },
      "cell_type": "code",
      "source": [
        "import numpy as np\n",
        "import pandas as pd\n",
        "from keras.models import model_from_json\n",
        "\n",
        "file = open('neuralClassifier_breast_1.json', 'r')\n",
        "loadedNet = file.read()\n",
        "file.close()\n",
        "\n",
        "loadedClassifier = model_from_json(loadedNet)\n",
        "loadedClassifier.load_weights('neuralClassifier_weights_breast_1.h5')\n",
        "\n",
        "woman_data = np.array([[15.80, 8.34, 118, 900, 0.10, 0.26, 0.08, 0.134, 0.178,\n",
        "                        0.20, 0.05, 1098, 0.87, 4500, 145.2, 0.005, 0.04, 0.05, \n",
        "                        0.015, 0.03, 0.007, 23.15, 16.64, 178.5, 2018, 0.14, 0.185,\n",
        "                        0.84, 158, 0.363]])\n",
        "\n",
        "diagnosis = loadedClassifier.predict(woman_data)\n",
        "diagnosis = (diagnosis > 0.5)\n",
        "print(diagnosis)\n"
      ],
      "execution_count": 0,
      "outputs": []
    },
    {
      "metadata": {
        "id": "TBE0fnUbRPSU",
        "colab_type": "text"
      },
      "cell_type": "markdown",
      "source": [
        "Below is shown how to perform a cross-validation of a Keras Classifier with scikit_learn. The parameter cv = 10 indicates that the database will be divided into 10 pieces to execute the cross validation."
      ]
    },
    {
      "metadata": {
        "id": "nR8YM9U5ROsq",
        "colab_type": "code",
        "colab": {}
      },
      "cell_type": "code",
      "source": [
        "from keras.wrappers.scikit_learn import KerasClassifier\n",
        "from sklearn.model_selection import cross_val_score\n",
        "\n",
        "crossClassifier = KerasClassifier(build_fn = createNet,\n",
        "                                  epochs = 150,\n",
        "                                  batch_size =50)\n",
        "\n",
        "crossResult = cross_val_score(estimator = crossClassifier,\n",
        "                              X = predictors, y = realResult,\n",
        "                              cv = 10, scoring = 'accuracy')\n",
        "\n",
        "resultMean = crossResult.mean()\n",
        "resultDeviation = crossResult.std()\n",
        "\n",
        "print(\"Mean:%f Standard Deviation:%f\"% (resultMean, resultDeviation))"
      ],
      "execution_count": 0,
      "outputs": []
    },
    {
      "metadata": {
        "id": "ywJ0h_mWdNPN",
        "colab_type": "text"
      },
      "cell_type": "markdown",
      "source": [
        "To find the best combination of parameters we may use the GridSearchCV. This function will find the best combination of the values  passed in the dict array testeParameters. This process may take a long time to execute (~8 hours)... wait sit (or sleeping)."
      ]
    },
    {
      "metadata": {
        "id": "gvJYZ3odX1bA",
        "colab_type": "code",
        "colab": {}
      },
      "cell_type": "code",
      "source": [
        "from keras.wrappers.scikit_learn import KerasClassifier\n",
        "from sklearn.model_selection import GridSearchCV\n",
        "\n",
        "\n",
        "def createNet_tunning(optimizer, lossFunc, kernel_initializer, activation, neurons1, neurons2):\n",
        "    newNeuralClassifier = Sequential()\n",
        "    \n",
        "    newNeuralClassifier.add(Dense(units = neurons1, \n",
        "                                  activation = activation, \n",
        "                                  kernel_initializer = kernel_initializer, input_dim = 30))\n",
        "    newNeuralClassifier.add(Dropout(0.2))\n",
        "    \n",
        "    newNeuralClassifier.add(Dense(units = neurons2, \n",
        "                                  activation = activation, \n",
        "                                  kernel_initializer = kernel_initializer))\n",
        "    newNeuralClassifier.add(Dropout(0.2))\n",
        "    \n",
        "    newNeuralClassifier.add(Dense(units = 1, activation = 'sigmoid'))\n",
        "    \n",
        "    newNeuralClassifier.compile(optimizer = optimizer, \n",
        "                                loss = lossFunc,\n",
        "                                metrics = ['binary_accuracy'])\n",
        "    \n",
        "    return newNeuralClassifier\n",
        "\n",
        "tunningClassifier = KerasClassifier(build_fn = createNet_tunning)\n",
        "\n",
        "testParameters = {'batch_size': [10, 30],\n",
        "                  'epochs': [50, 100],\n",
        "                  'optimizer': ['adam', 'sgd'],\n",
        "                  'lossFunc': ['binary_crossentropy', 'hinge'],\n",
        "                  'kernel_initializer': ['random_uniform', 'normal'],\n",
        "                  'activation': ['relu', 'tanh'],\n",
        "                  'neurons1': [16, 8],\n",
        "                  'neurons2': [16, 8, 4]}\n",
        "\n",
        "grid_search = GridSearchCV(estimator = tunningClassifier,\n",
        "                           param_grid = testParameters,\n",
        "                           scoring = 'accuracy',\n",
        "                           cv = 5)\n",
        "\n",
        "grid_search = grid_search.fit(predictors, realResult)\n",
        "bestParameters = grid_search.best_params_\n",
        "bestAccuracy = grid_search.best_score_\n",
        "\n",
        "print(bestParameters)\n",
        "print(bestAccuracy)"
      ],
      "execution_count": 0,
      "outputs": []
    }
  ]
}