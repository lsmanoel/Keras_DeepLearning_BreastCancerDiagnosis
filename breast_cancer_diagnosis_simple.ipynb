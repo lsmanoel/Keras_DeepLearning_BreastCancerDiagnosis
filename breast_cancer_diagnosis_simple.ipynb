{
  "nbformat": 4,
  "nbformat_minor": 0,
  "metadata": {
    "colab": {
      "name": "breast_cancer_diagnosis_simple.ipynb",
      "version": "0.3.2",
      "provenance": [],
      "collapsed_sections": [],
      "include_colab_link": true
    },
    "kernelspec": {
      "name": "python3",
      "display_name": "Python 3"
    }
  },
  "cells": [
    {
      "cell_type": "markdown",
      "metadata": {
        "id": "view-in-github",
        "colab_type": "text"
      },
      "source": [
        "<a href=\"https://colab.research.google.com/github/lsmanoel/Keras_DeepLearning_BreastCancerDiagnosis/blob/master/breast_cancer_diagnosis_simple.ipynb\" target=\"_parent\"><img src=\"https://colab.research.google.com/assets/colab-badge.svg\" alt=\"Open In Colab\"/></a>"
      ]
    },
    {
      "metadata": {
        "id": "RoZYBXq8a1Y3",
        "colab_type": "text"
      },
      "cell_type": "markdown",
      "source": [
        "In this exemple you will learn how to train a deep neural network to diagnose breast cancer. The packages required for this exemple are shown below:"
      ]
    },
    {
      "metadata": {
        "id": "8Maz0pycaYTw",
        "colab_type": "code",
        "colab": {}
      },
      "cell_type": "code",
      "source": [
        "import pandas as pd\n",
        "\n",
        "from sklearn.model_selection import train_test_split\n",
        "\n",
        "import keras\n",
        "from keras.models import Sequential\n",
        "from keras.layers import Dense, Dropout"
      ],
      "execution_count": 0,
      "outputs": []
    },
    {
      "metadata": {
        "id": "O53H7-pveUj4",
        "colab_type": "text"
      },
      "cell_type": "markdown",
      "source": [
        "To load the database is shown below. The input_data_breast are the predictors and the output_data_breast are de real results of breast cancer diagnoses for each predictor."
      ]
    },
    {
      "metadata": {
        "id": "x155pKJ8toQE",
        "colab_type": "code",
        "colab": {}
      },
      "cell_type": "code",
      "source": [
        "from google.colab import drive \n",
        "drive.mount('/content/gdrive')"
      ],
      "execution_count": 0,
      "outputs": []
    },
    {
      "metadata": {
        "id": "Mitbhc-KvQvv",
        "colab_type": "text"
      },
      "cell_type": "markdown",
      "source": [
        "The database will be separated into two sections. A section to train and a section to evaluate the deep NN. The parameter test_size means the fraction value that will be used to evaluate the net."
      ]
    },
    {
      "metadata": {
        "id": "0y9YtedncxYk",
        "colab_type": "code",
        "colab": {}
      },
      "cell_type": "code",
      "source": [
        "predictors = pd.read_csv('gdrive/My Drive/Colab Notebooks/Keras_DeepLearning/binary_classifier/breast_cancer_diagnosis/entradas-breast.csv')\n",
        "realResult = pd.read_csv('gdrive/My Drive/Colab Notebooks/Keras_DeepLearning/binary_classifier/breast_cancer_diagnosis/saidas-breast.csv')\n",
        "predictors_training, predictors_test, realResult_training, realResult_test = train_test_split(predictors, realResult, test_size=0.10)\n"
      ],
      "execution_count": 0,
      "outputs": []
    },
    {
      "metadata": {
        "id": "k2lc80B01062",
        "colab_type": "text"
      },
      "cell_type": "markdown",
      "source": [
        "The structure of the Deep Neural Net is shown below. This net has only two hidden layers. The error function used is the Binary Crossentropy (ideal for binary problems). The output activation function is a sigmoid to provide a probability result (range between 0 and 1). Dropouts prevent network overfitting!\n",
        "\n",
        ">1.   30 neurons in input layers \n",
        ">1.   8n in dense relu hidden  layers \n",
        ">1.   8n in dense relu hidden layer\n",
        ">1.   1n in dense sigmoid output layer\n",
        "\n",
        "\n",
        "The optimizer used is [Adam Optimizer](https://arxiv.org/abs/1412.6980v8).\n",
        "\n",
        "Other types of optimizers:\n",
        "[https://keras.io/optimizers/](https://keras.io/optimizers/)"
      ]
    },
    {
      "metadata": {
        "id": "DG53DHZYcz7W",
        "colab_type": "code",
        "colab": {}
      },
      "cell_type": "code",
      "source": [
        "neuralClassifier = Sequential()\n",
        "neuralClassifier.add(Dense(units = 8, activation = 'relu',\n",
        "                        kernel_initializer = 'random_uniform', input_dim = 30))\n",
        "neuralClassifier.add(Dropout(0.2))\n",
        "neuralClassifier.add(Dense(units = 8, activation = 'relu',\n",
        "                        kernel_initializer = 'normal'))\n",
        "neuralClassifier.add(Dropout(0.2))\n",
        "neuralClassifier.add(Dense(units = 1, activation = 'sigmoid'))\n",
        "\n",
        "#lr: learning rate ... decay: decay of learning rate\n",
        "#clipvalue: limits the values of the weights\n",
        "optimizer_config = keras.optimizers.Adam(lr = 0.001, decay = 0.0001, clipvalue = 0.5)\n",
        "neuralClassifier.compile(optimizer = optimizer_config, loss = 'binary_crossentropy',\n",
        "                      metrics = ['binary_accuracy'])"
      ],
      "execution_count": 0,
      "outputs": []
    },
    {
      "metadata": {
        "id": "m_z8geor7-pT",
        "colab_type": "text"
      },
      "cell_type": "markdown",
      "source": [
        "To play the training:"
      ]
    },
    {
      "metadata": {
        "id": "Jcwxvn9-sZ4x",
        "colab_type": "code",
        "colab": {}
      },
      "cell_type": "code",
      "source": [
        "neuralClassifier.fit(predictors_training, realResult_training,\n",
        "                  batch_size = 10, epochs = 100)"
      ],
      "execution_count": 0,
      "outputs": []
    },
    {
      "metadata": {
        "id": "Woy1pwYCserh",
        "colab_type": "text"
      },
      "cell_type": "markdown",
      "source": [
        "To get and set the weights of layer or get config of the layer: [https://keras.io/layers/about-keras-layers/](https://keras.io/layers/about-keras-layers/)"
      ]
    },
    {
      "metadata": {
        "id": "XS3OgqY7shgv",
        "colab_type": "code",
        "colab": {}
      },
      "cell_type": "code",
      "source": [
        "weight0 = neuralClassifier.layers[0].get_weights()\n",
        "weight1 = neuralClassifier.layers[1].get_weights()\n",
        "\n",
        "config0 = neuralClassifier.layers[0].get_config()\n",
        "config1 = neuralClassifier.layers[1].get_config()\n",
        "\n",
        "reconstructed_layer = Dense.from_config(config0)\n",
        "reconstructed_layer.set_weights(weight1)"
      ],
      "execution_count": 0,
      "outputs": []
    },
    {
      "metadata": {
        "id": "ku8GI7L4Ecxk",
        "colab_type": "text"
      },
      "cell_type": "markdown",
      "source": [
        "To view the confusion matrix:"
      ]
    },
    {
      "metadata": {
        "id": "SNbc78Ims4x1",
        "colab_type": "code",
        "colab": {
          "base_uri": "https://localhost:8080/",
          "height": 112
        },
        "outputId": "abd7036d-fd30-46ec-a9ec-9cf86e66fbaa"
      },
      "cell_type": "code",
      "source": [
        "prediction = neuralClassifier.predict(predictors_test)\n",
        "prediction = (prediction > 0.5)#Boolean convert\n",
        "\n",
        "from sklearn.metrics import confusion_matrix, accuracy_score\n",
        "accuracy = accuracy_score(realResult_test, prediction)\n",
        "matrix = confusion_matrix(realResult_test, prediction)\n",
        "\n",
        "confusion_matrix_ = pd.DataFrame (matrix, \n",
        "                                  columns =['Predicted Positive', 'Predicted Negative'], \n",
        "                                  index =['Actual Positive', 'Actual Negative'])\n",
        "\n",
        "confusion_matrix_\n",
        "\n"
      ],
      "execution_count": 33,
      "outputs": [
        {
          "output_type": "execute_result",
          "data": {
            "text/html": [
              "<div>\n",
              "<style scoped>\n",
              "    .dataframe tbody tr th:only-of-type {\n",
              "        vertical-align: middle;\n",
              "    }\n",
              "\n",
              "    .dataframe tbody tr th {\n",
              "        vertical-align: top;\n",
              "    }\n",
              "\n",
              "    .dataframe thead th {\n",
              "        text-align: right;\n",
              "    }\n",
              "</style>\n",
              "<table border=\"1\" class=\"dataframe\">\n",
              "  <thead>\n",
              "    <tr style=\"text-align: right;\">\n",
              "      <th></th>\n",
              "      <th>Predicted Positive</th>\n",
              "      <th>Predicted Negative</th>\n",
              "    </tr>\n",
              "  </thead>\n",
              "  <tbody>\n",
              "    <tr>\n",
              "      <th>Actual Positive</th>\n",
              "      <td>16</td>\n",
              "      <td>4</td>\n",
              "    </tr>\n",
              "    <tr>\n",
              "      <th>Actual Negative</th>\n",
              "      <td>0</td>\n",
              "      <td>37</td>\n",
              "    </tr>\n",
              "  </tbody>\n",
              "</table>\n",
              "</div>"
            ],
            "text/plain": [
              "                 Predicted Positive  Predicted Negative\n",
              "Actual Positive                  16                   4\n",
              "Actual Negative                   0                  37"
            ]
          },
          "metadata": {
            "tags": []
          },
          "execution_count": 33
        }
      ]
    },
    {
      "metadata": {
        "id": "79u3UDGOEl0F",
        "colab_type": "text"
      },
      "cell_type": "markdown",
      "source": [
        "To evaluate the Net:"
      ]
    },
    {
      "metadata": {
        "id": "F4SMuIM5EXR4",
        "colab_type": "code",
        "colab": {
          "base_uri": "https://localhost:8080/",
          "height": 52
        },
        "outputId": "bf350d65-971c-4972-e6a4-18da20aea6a7"
      },
      "cell_type": "code",
      "source": [
        "result = neuralClassifier.evaluate(predictors_test, realResult_test)\n",
        "print(\"Error:%f Accuracy:%f\"% (result[0], result[1]))"
      ],
      "execution_count": 34,
      "outputs": [
        {
          "output_type": "stream",
          "text": [
            "57/57 [==============================] - 0s 69us/step\n",
            "Error:0.213137 Accuracy:0.929825\n"
          ],
          "name": "stdout"
        }
      ]
    },
    {
      "metadata": {
        "id": "RJ9qRLqPFOvc",
        "colab_type": "text"
      },
      "cell_type": "markdown",
      "source": [
        "To save the neuralClassifier like json file:"
      ]
    },
    {
      "metadata": {
        "id": "YXTvn_AFF-XO",
        "colab_type": "code",
        "colab": {}
      },
      "cell_type": "code",
      "source": [
        "neuralClassifier_json = neuralClassifier.to_json()\n",
        "with open('neuralClassifier_breast_1.json', 'w') as json_file:\n",
        "    json_file.write(neuralClassifier_json)"
      ],
      "execution_count": 0,
      "outputs": []
    },
    {
      "metadata": {
        "id": "awLAvM4lGQ3i",
        "colab_type": "text"
      },
      "cell_type": "markdown",
      "source": [
        "To save the weights:\n"
      ]
    },
    {
      "metadata": {
        "id": "wyery7-RGQTL",
        "colab_type": "code",
        "colab": {}
      },
      "cell_type": "code",
      "source": [
        "neuralClassifier.save_weights('neuralClassifier_weights_breast_1.h5')\n"
      ],
      "execution_count": 0,
      "outputs": []
    },
    {
      "metadata": {
        "id": "ynzKRcD_HIMc",
        "colab_type": "text"
      },
      "cell_type": "markdown",
      "source": [
        "To open the saved neuralClassifier and weights:"
      ]
    },
    {
      "metadata": {
        "id": "4IFhyTg1G79K",
        "colab_type": "code",
        "colab": {
          "base_uri": "https://localhost:8080/",
          "height": 34
        },
        "outputId": "8c385e8e-5f98-4ebb-aa0b-59a8d0b77666"
      },
      "cell_type": "code",
      "source": [
        "import numpy as np\n",
        "import pandas as pd\n",
        "from keras.models import model_from_json\n",
        "\n",
        "file = open('neuralClassifier_breast_1.json', 'r')\n",
        "loadedNet = file.read()\n",
        "file.close()\n",
        "\n",
        "loadedClassifier = model_from_json(loadedNet)\n",
        "loadedClassifier.load_weights('neuralClassifier_weights_breast_1.h5')\n",
        "\n",
        "woman_data = np.array([[15.80, 8.34, 118, 900, 0.10, 0.26, 0.08, 0.134, 0.178,\n",
        "                  0.20, 0.05, 1098, 0.87, 4500, 145.2, 0.005, 0.04, 0.05, 0.015,\n",
        "                  0.03, 0.007, 23.15, 16.64, 178.5, 2018, 0.14, 0.185,\n",
        "                  0.84, 158, 0.363]])\n",
        "\n",
        "diagnostic = loadedClassifier.predict(woman_data)\n",
        "diagnostic = (diagnostic > 0.5)\n",
        "print(diagnostic)\n"
      ],
      "execution_count": 42,
      "outputs": [
        {
          "output_type": "stream",
          "text": [
            "[[ True]]\n"
          ],
          "name": "stdout"
        }
      ]
    }
  ]
}